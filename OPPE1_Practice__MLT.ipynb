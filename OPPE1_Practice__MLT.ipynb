{
  "nbformat": 4,
  "nbformat_minor": 0,
  "metadata": {
    "colab": {
      "name": "OPPE1 Practice_ MLT.ipynb",
      "provenance": [],
      "collapsed_sections": [
        "tBdrLSfaFLd2",
        "3lP6fE39GM3z",
        "Tbil4gOpdvUl",
        "Di1l0Fvzg08l",
        "G3Up34ZTmQ1S",
        "BPzCemcHnNZz",
        "fY-LxXlFpu6t",
        "3e8bnDyZs3AA",
        "nMR7MEKKJBaX",
        "9RJARlH9LYTf",
        "v85rBOSZOs6c",
        "u6IwELHzSLbG",
        "aZ7NoXxOTzw6",
        "Hj8MyD_aZRHJ",
        "713tOyAuZpEY",
        "VdjsNyNXbQZN"
      ],
      "authorship_tag": "ABX9TyO9smvA6vXNZpRtHXAi/KcH",
      "include_colab_link": true
    },
    "kernelspec": {
      "name": "python3",
      "display_name": "Python 3"
    },
    "language_info": {
      "name": "python"
    }
  },
  "cells": [
    {
      "cell_type": "markdown",
      "metadata": {
        "id": "view-in-github",
        "colab_type": "text"
      },
      "source": [
        "<a href=\"https://colab.research.google.com/github/samapatil1729/Machine-Learning-techniques/blob/main/OPPE1_Practice__MLT.ipynb\" target=\"_parent\"><img src=\"https://colab.research.google.com/assets/colab-badge.svg\" alt=\"Open In Colab\"/></a>"
      ]
    },
    {
      "cell_type": "code",
      "source": [
        "import numpy as np\n",
        "import pandas as pd"
      ],
      "metadata": {
        "id": "ZhcESZ_JAoqf"
      },
      "execution_count": null,
      "outputs": []
    },
    {
      "cell_type": "markdown",
      "source": [
        "#WEEK_1\n",
        "##PPA1\n",
        "Write a function named vec_addition(u,v) which takes two vectors u and v as input and returns their vector addition.\n",
        " \n",
        "  1. Inputs: u and v are two numerical numpy arrays. \n",
        "  2. Output: a vector representing sum of u and v, if they have consistent shapes, None otherwise."
      ],
      "metadata": {
        "id": "epg6WhiAAZvz"
      }
    },
    {
      "cell_type": "code",
      "source": [
        "def vec_addition(u,v):\n",
        "  if u.shape==v.shape:\n",
        "    return u+v\n",
        "  else:\n",
        "      return None"
      ],
      "metadata": {
        "id": "kGMuv2TUAiOy"
      },
      "execution_count": null,
      "outputs": []
    },
    {
      "cell_type": "code",
      "source": [
        "u=np.array([1,2,3])\n",
        "v=np.array([4,5,6])\n",
        "vec_addition(u,v)"
      ],
      "metadata": {
        "colab": {
          "base_uri": "https://localhost:8080/"
        },
        "id": "a7VJ3v2MBbCo",
        "outputId": "73b2d20e-b772-488b-a2f1-81a005fbbc78"
      },
      "execution_count": null,
      "outputs": [
        {
          "output_type": "execute_result",
          "data": {
            "text/plain": [
              "array([5, 7, 9])"
            ]
          },
          "metadata": {},
          "execution_count": 3
        }
      ]
    },
    {
      "cell_type": "code",
      "source": [
        "x=np.array([1,2,3])\n",
        "y=np.array([5,6])\n",
        "vec_addition(x,y)"
      ],
      "metadata": {
        "id": "8fLzf4Z7Bped"
      },
      "execution_count": null,
      "outputs": []
    },
    {
      "cell_type": "code",
      "source": [
        ""
      ],
      "metadata": {
        "id": "YA024XgrCeEE"
      },
      "execution_count": null,
      "outputs": []
    },
    {
      "cell_type": "markdown",
      "source": [
        "##PPA2\n",
        "write a function named scalar_multiply(u,k) which takes a vector u and a scalar k as input and returns k times u as output\n",
        " \n",
        "  1. Inputs: A vector u and a scalar k\n",
        "  2. Output: Returns a vector which is k times u"
      ],
      "metadata": {
        "id": "E_Q9sL8mCzxJ"
      }
    },
    {
      "cell_type": "code",
      "source": [
        "def scalar_multiply(u,k):\n",
        "  return u*k"
      ],
      "metadata": {
        "id": "R6lA5G2jC4T6"
      },
      "execution_count": null,
      "outputs": []
    },
    {
      "cell_type": "code",
      "source": [
        "x=np.array([1,2,3])\n",
        "scalar_multiply(u,3)"
      ],
      "metadata": {
        "colab": {
          "base_uri": "https://localhost:8080/"
        },
        "id": "5c2aEA5iDK2j",
        "outputId": "750a3eb0-d109-4e3a-8784-0bab6ea8ea77"
      },
      "execution_count": null,
      "outputs": [
        {
          "output_type": "execute_result",
          "data": {
            "text/plain": [
              "array([3, 6, 9])"
            ]
          },
          "metadata": {},
          "execution_count": 6
        }
      ]
    },
    {
      "cell_type": "markdown",
      "source": [
        "##PPA3\n",
        "Write a function hadamard(u,v) which takes two vectors u and v as input and returns hadamard product of u and v.\n",
        "Hdamard product is obtained via multiplying two matrices/vectors elementwise.\n",
        " \n",
        "  1. Inputs: Two vectors u and v\n",
        "  2. Output: Hadamard product of u and v if the dimensions of u and v are consistent, otherwise None"
      ],
      "metadata": {
        "id": "ELpaTIcfDbHn"
      }
    },
    {
      "cell_type": "code",
      "source": [
        "def hadmard(u,v):\n",
        "  if u.shape==v.shape:\n",
        "    return u*v\n",
        "  else:\n",
        "    return None"
      ],
      "metadata": {
        "id": "fgFrNwvKDSUx"
      },
      "execution_count": null,
      "outputs": []
    },
    {
      "cell_type": "code",
      "source": [
        "u=np.array([1,2,3])\n",
        "v=np.array([4,5,6])\n",
        "hadmard(u,v)"
      ],
      "metadata": {
        "colab": {
          "base_uri": "https://localhost:8080/"
        },
        "id": "wL339zTzD5HI",
        "outputId": "f2ab2a4c-972f-4fa7-9811-c989a7e167df"
      },
      "execution_count": null,
      "outputs": [
        {
          "output_type": "execute_result",
          "data": {
            "text/plain": [
              "array([ 4, 10, 18])"
            ]
          },
          "metadata": {},
          "execution_count": 8
        }
      ]
    },
    {
      "cell_type": "markdown",
      "source": [
        "##GrPA 1\n",
        "Write a function dot_product(u,v) which take two vectors u and v as input and returns inner product of u and v as output\n",
        " \n",
        "  1. Inputs: vectors u and v \n",
        "  2. Output: dot product of u and v if u and v have consistent dimension otherwise None"
      ],
      "metadata": {
        "id": "DXqaWtClEZDK"
      }
    },
    {
      "cell_type": "code",
      "source": [
        "def dot_product(u,v):\n",
        "  if u.shape==v.shape:\n",
        "    return u @ v    #np.dot(u,v)\n",
        "  else:\n",
        "    return None"
      ],
      "metadata": {
        "id": "xjyqtnCzEeYy"
      },
      "execution_count": null,
      "outputs": []
    },
    {
      "cell_type": "code",
      "source": [
        "u=np.array([1,2,3])\n",
        "v=np.array([4,5,6])\n",
        "dot_product(u,v)"
      ],
      "metadata": {
        "colab": {
          "base_uri": "https://localhost:8080/"
        },
        "id": "k78GrDHzEw-q",
        "outputId": "807c1acc-8179-45a8-c50d-d2a90d13f926"
      },
      "execution_count": null,
      "outputs": [
        {
          "output_type": "execute_result",
          "data": {
            "text/plain": [
              "32"
            ]
          },
          "metadata": {},
          "execution_count": 11
        }
      ]
    },
    {
      "cell_type": "markdown",
      "source": [
        "##GrPA 2\n",
        "Write a function add_constant(u,k) which adds a constant k to each element of u\n",
        " \n",
        "  1. Inputs: u is a vector,k is a scalar \n",
        "  2. Output: C is a vector"
      ],
      "metadata": {
        "id": "tBdrLSfaFLd2"
      }
    },
    {
      "cell_type": "code",
      "source": [
        "def add_constant(u,k):\n",
        "  return k+u"
      ],
      "metadata": {
        "id": "VzjNJKMnHIuP"
      },
      "execution_count": null,
      "outputs": []
    },
    {
      "cell_type": "code",
      "source": [
        "u=np.array([1,2,3])\n",
        "add_constant(u,7)"
      ],
      "metadata": {
        "colab": {
          "base_uri": "https://localhost:8080/"
        },
        "id": "DvhJnUocFm71",
        "outputId": "9e5acd7d-212d-4163-f8da-9af452dc7ede"
      },
      "execution_count": null,
      "outputs": [
        {
          "output_type": "execute_result",
          "data": {
            "text/plain": [
              "array([ 8,  9, 10])"
            ]
          },
          "metadata": {},
          "execution_count": 17
        }
      ]
    },
    {
      "cell_type": "markdown",
      "source": [
        "##GrPA 3\n",
        "Write a function add_matrix(X,Y) to add two matrices X and Y.\n",
        " \n",
        "  1. Inputs: X is a matrix, Y is a matrix \n",
        "  2. Output: Z is a matrix representing (X+Y) if X and Y have consistent dimension otherwise None"
      ],
      "metadata": {
        "id": "3lP6fE39GM3z"
      }
    },
    {
      "cell_type": "code",
      "source": [
        "def add_matrix(X,Y):\n",
        "  if X.shape==Y.shape:\n",
        "    return X+Y\n",
        "  else:\n",
        "    return None"
      ],
      "metadata": {
        "id": "w1m5P0X3GWpI"
      },
      "execution_count": null,
      "outputs": []
    },
    {
      "cell_type": "code",
      "source": [
        "A=np.array([[1,2,3],[4,5,6],[7,8,9]])\n",
        "B=np.array([[1,2,3],[4,5,6],[7,8,9]])\n",
        "add_matrix(A,B)"
      ],
      "metadata": {
        "colab": {
          "base_uri": "https://localhost:8080/"
        },
        "id": "lzyHqVeBGtqE",
        "outputId": "071edf7b-3241-482e-94e6-7d368bc71b27"
      },
      "execution_count": null,
      "outputs": [
        {
          "output_type": "execute_result",
          "data": {
            "text/plain": [
              "array([[ 2,  4,  6],\n",
              "       [ 8, 10, 12],\n",
              "       [14, 16, 18]])"
            ]
          },
          "metadata": {},
          "execution_count": 19
        }
      ]
    },
    {
      "cell_type": "markdown",
      "source": [
        "#**WEEK_2**\n",
        "##PPA 1\n",
        "Write a function add_one(X) to include first column with all elements 1 in X.\n",
        " \n",
        "  1. Inputs: A matrix X\n",
        "  2. Output: updated matrix with a column having elements 1 added as first column to X."
      ],
      "metadata": {
        "id": "iXcB4egabAK5"
      }
    },
    {
      "cell_type": "code",
      "source": [
        "def add_one(X):\n",
        "  n = len(X)\n",
        "  return np.c_[np.ones(n), X]\n",
        "\n",
        "def add_zeros(X):\n",
        "  n = len(X)\n",
        "  return np.c_[np.zeros(n), X]\n"
      ],
      "metadata": {
        "id": "O69xGfSbHwuc"
      },
      "execution_count": null,
      "outputs": []
    },
    {
      "cell_type": "code",
      "source": [
        "A=[[1,2,3],[4,5,6],[7,8,9]]\n",
        "add_one(A)"
      ],
      "metadata": {
        "colab": {
          "base_uri": "https://localhost:8080/"
        },
        "id": "g8JZ8IMZb7OL",
        "outputId": "2854e590-7865-4dca-b271-eeb492cb1611"
      },
      "execution_count": null,
      "outputs": [
        {
          "output_type": "execute_result",
          "data": {
            "text/plain": [
              "array([[1., 1., 2., 3.],\n",
              "       [1., 4., 5., 6.],\n",
              "       [1., 7., 8., 9.]])"
            ]
          },
          "metadata": {},
          "execution_count": 21
        }
      ]
    },
    {
      "cell_type": "code",
      "source": [
        "add_zeros(A)"
      ],
      "metadata": {
        "colab": {
          "base_uri": "https://localhost:8080/"
        },
        "id": "gOFyvyqKcIwo",
        "outputId": "242fdf81-6e4e-4545-f4e3-3f571723aa91"
      },
      "execution_count": null,
      "outputs": [
        {
          "output_type": "execute_result",
          "data": {
            "text/plain": [
              "array([[0., 1., 2., 3.],\n",
              "       [0., 4., 5., 6.],\n",
              "       [0., 7., 8., 9.]])"
            ]
          },
          "metadata": {},
          "execution_count": 22
        }
      ]
    },
    {
      "cell_type": "markdown",
      "source": [
        "##To include first column with all elements 'a' in X."
      ],
      "metadata": {
        "id": "Tbil4gOpdvUl"
      }
    },
    {
      "cell_type": "code",
      "source": [
        "def add_number(X,a):\n",
        "  n = len(X)\n",
        "  return np.c_[a+np.zeros(n), X]"
      ],
      "metadata": {
        "id": "J3qRz4cgcykx"
      },
      "execution_count": null,
      "outputs": []
    },
    {
      "cell_type": "code",
      "source": [
        "A=[[1,2,3],[4,5,6],[7,8,9]]\n",
        "add_number(A,3)"
      ],
      "metadata": {
        "colab": {
          "base_uri": "https://localhost:8080/"
        },
        "id": "f3LfGF3xdR5W",
        "outputId": "c8fe1d33-f81c-4952-c515-7760adaf7bb1"
      },
      "execution_count": null,
      "outputs": [
        {
          "output_type": "execute_result",
          "data": {
            "text/plain": [
              "array([[3., 1., 2., 3.],\n",
              "       [3., 4., 5., 6.],\n",
              "       [3., 7., 8., 9.]])"
            ]
          },
          "metadata": {},
          "execution_count": 24
        }
      ]
    },
    {
      "cell_type": "markdown",
      "source": [
        "#PPA 2\n",
        "Write a function multiply(X,w) to Multiply feature matrix(X) and weight vector(w) after addition of dummy feature to feature matrix.\n",
        "\n",
        "Inputs: Feature matrix X and weight vector w\n",
        "Output: Product of X and w after adding dummy feature to feature matrix X. If the dimensions are not consistent return None."
      ],
      "metadata": {
        "id": "sKs-ASFEeWJb"
      }
    },
    {
      "cell_type": "code",
      "source": [
        "def multiply(X,w):  \n",
        "  A = np.c_[np.ones(len(X)),X]\n",
        "  if (A.shape[-1])==w.shape[0]:\n",
        "    return (A)@w\n",
        "  else:\n",
        "    return None"
      ],
      "metadata": {
        "id": "kJgF6XoHdX_l"
      },
      "execution_count": null,
      "outputs": []
    },
    {
      "cell_type": "code",
      "source": [
        "A=[[1,2,3],[4,5,6],[7,8,9]]\n",
        "w = np.array([1,2,3,4])\n",
        "multiply(A,w)"
      ],
      "metadata": {
        "colab": {
          "base_uri": "https://localhost:8080/"
        },
        "id": "WU_0YVAPe3pa",
        "outputId": "a83f2133-84d7-49f9-a0a0-fcb693cea209"
      },
      "execution_count": null,
      "outputs": [
        {
          "output_type": "execute_result",
          "data": {
            "text/plain": [
              "array([21., 48., 75.])"
            ]
          },
          "metadata": {},
          "execution_count": 26
        }
      ]
    },
    {
      "cell_type": "markdown",
      "source": [
        "##PPA 3\n",
        "Write a function loss(X,w,y) which takes feature matrix(X), weight vector(w) and output label vector(y) and returns sum squared loss while implementing regression model.(Note: Do necessary preprocessing of X)\n",
        " \n",
        "  1. Inputs: Feature matrix X and weight vector w and output label vector y\n",
        "  2. Output: sum squared loss if dimensions of inputs are consistent, otherwise None"
      ],
      "metadata": {
        "id": "Di1l0Fvzg08l"
      }
    },
    {
      "cell_type": "code",
      "source": [
        "def loss(X,w,y):\n",
        "  A = np.c_[np.ones(len(X)),X]\n",
        "  if A.shape[-1]==w.shape[0]:\n",
        "    y_pred = A@w\n",
        "    return np.sum((y_pred-y)**2)*0.5\n",
        "  else:\n",
        "    return None"
      ],
      "metadata": {
        "id": "DoBtBv5egk9v"
      },
      "execution_count": null,
      "outputs": []
    },
    {
      "cell_type": "markdown",
      "source": [
        "#OR"
      ],
      "metadata": {
        "id": "27XCCERwmHgG"
      }
    },
    {
      "cell_type": "code",
      "source": [
        "def loss(X,w,y):\n",
        "  N = len(X)\n",
        "  A=np.c_[ np.ones(N), X]\n",
        "  if A.shape[-1]!=w.shape[0]:\n",
        "    return None\n",
        "  e = (A @ w)-y\n",
        "  return  (1/2) * (np.transpose(e) @ e)"
      ],
      "metadata": {
        "id": "jl-Bzkixis2W"
      },
      "execution_count": null,
      "outputs": []
    },
    {
      "cell_type": "markdown",
      "source": [
        "##GrPA 1\n",
        "Write a function compatibility(X,w) to find whether X and w can be multiplied or not.\n",
        " \n",
        "  1. Inputs: Feature matrix X and weight vector w,\n",
        "  2. Output: return \"C\" if X and w can be multiplied otherwise None."
      ],
      "metadata": {
        "id": "G3Up34ZTmQ1S"
      }
    },
    {
      "cell_type": "code",
      "source": [
        "def compatibility(X,w):\n",
        "  A = np.c_[np.ones(len(X)),X]\n",
        "  if A.shape[-1]==w.shape[0]:\n",
        "    return \"C\"\n",
        "  return None"
      ],
      "metadata": {
        "id": "tmsohBpSmZZ1"
      },
      "execution_count": null,
      "outputs": []
    },
    {
      "cell_type": "markdown",
      "source": [
        "##GrPA 2\n",
        "Write a function gradient(X,w,y) to calculate gradient of loss function w.r.t weight vector given that X is the feature matrix, w is the weight vector and y is the output vector.\n",
        "(Note: do necessary preprocessing of X)\n",
        " \n",
        "  1. Inputs: Feature matrix X, weight vector w, and output label vector y.\n",
        "  2. Output: gradient if dimesnsions of inputs are consistent, otherwise None\n",
        "\n",
        "Note: Preprocess X, if necessary."
      ],
      "metadata": {
        "id": "BPzCemcHnNZz"
      }
    },
    {
      "cell_type": "code",
      "source": [
        "def gradient(X,w,y):\n",
        "  A = np.c_(np.ones(len(X)),X)\n",
        "  if A.shape[-1]!=w.shape[0]:\n",
        "    return None\n",
        "  y_pred = A@w-y\n",
        "  return np.transpose(A)@ y_pred\n"
      ],
      "metadata": {
        "id": "wcLZahgNnUJL"
      },
      "execution_count": null,
      "outputs": []
    },
    {
      "cell_type": "markdown",
      "source": [
        "##GrPA 3\n",
        "Write a function weight_update(X,w,y,lr) to get updated weight after one iteration of gradient descent given that X is the feature matrix, w is the weight vector and y is the output label vector.\n",
        "(Note: Do necessary preprocessing of X)\n",
        " \n",
        "  1. Inputs: Feature matrix X, weight vector w, output label vector y and learning rate lr\n",
        "  2. Output: weight updates after gradient calculation if dimensions of inputs are consistent, otherwise None"
      ],
      "metadata": {
        "id": "fY-LxXlFpu6t"
      }
    },
    {
      "cell_type": "code",
      "source": [
        "def weight_update(X,w,y,lr):\n",
        "  A = np.c_[np.ones(len(x)),X]\n",
        "  if A.shape[-1]!=w.shape[0]:\n",
        "    return None\n",
        "  y_pred = (A@w)-y\n",
        "  Grd = np.transpose(A) @ y_pred\n",
        "  return w - lr*Grd"
      ],
      "metadata": {
        "id": "ShUSFHW4oVay"
      },
      "execution_count": null,
      "outputs": []
    },
    {
      "cell_type": "markdown",
      "source": [
        "##Practice Assignment"
      ],
      "metadata": {
        "id": "3e8bnDyZs3AA"
      }
    },
    {
      "cell_type": "code",
      "source": [
        "def gen_data(n):\n",
        "    #obtain y=6+5x+noise\n",
        "    w0=6\n",
        "    w1=5\n",
        "    X=10*np.random.rand(2*n,)\n",
        "    y=w0+w1*X+np.random.randn(2*n,)\n",
        "    return X,y\n",
        "\n",
        "X,y=gen_data(250)"
      ],
      "metadata": {
        "id": "KHIBmYQ4r1OL"
      },
      "execution_count": null,
      "outputs": []
    },
    {
      "cell_type": "markdown",
      "source": [
        "#**WEEK_3**\n",
        "##PPA 1\n",
        "\n",
        "Consider input feature vector X. The shape of X is fixed (1 x 3) and the degree of the polynomial is a random number (between 2 to 10).\n",
        "\n",
        "Write a function named 'polynomial_transform' which takes the feature vector and degree of the polynomial as inputs and returns the transformed polynomial feature as output as a numpy array."
      ],
      "metadata": {
        "id": "WwOKbms4riYJ"
      }
    },
    {
      "cell_type": "code",
      "source": [
        "import random\n",
        "import itertools\n",
        "import functools\n",
        "\n",
        "def polynomial_transform(X, degree):\n",
        "  if X.ndim==1:\n",
        "    X = X[:,None]\n",
        "  X_t = X.transpose()\n",
        "  features = [np.ones(len(X))]\n",
        "  for degree in range(1, degree+1):\n",
        "    for items in itertools.combination_with_replacement(X_t, degree):\n",
        "      features.append(functools.reduce(lambda x, y: x * y, items))\n",
        "  return np.asarray(features).transpose()"
      ],
      "metadata": {
        "id": "TMiN1CGFrQSm"
      },
      "execution_count": null,
      "outputs": []
    },
    {
      "cell_type": "markdown",
      "source": [
        "##PPA 2\n",
        "Consider input feature matrix X, label y and weight w. The size of X, y and w are fixed to (10 x 3), (10 x 1) and (4 x 1).\n",
        "\n",
        "Write a loss function named 'ridge_loss' to compute ridge regression loss. This function should take the feature matrix (X), label vector (y), weight vector(w) and regularization rate (l) as inputs and return the loss value as output. Note: Add a dummy feature to X."
      ],
      "metadata": {
        "id": "nMR7MEKKJBaX"
      }
    },
    {
      "cell_type": "code",
      "source": [
        "import random\n",
        "def ridge_loss(X, y, w,l):\n",
        "  A = np.c_[np.ones(len(X)),X]  # A= np.column_stack((np.ones(X.shape[0]), X))\n",
        "  e = A@w-y\n",
        "  return (0.5*(e.T@e)+1/2*(w.T@w))\n"
      ],
      "metadata": {
        "id": "69mYplAszNRN"
      },
      "execution_count": null,
      "outputs": []
    },
    {
      "cell_type": "markdown",
      "source": [
        "##GrPA 1\n",
        "Government of India is taking several steps to ensure that we are well prepared to face the challenges and threats posed by COVID-19. With active support of citizens of India, Goverment have been able to mitigate the spread of the virus so far.\n",
        "\n",
        "One of the most important factors in the fight with the virus is to vaccinate maximum people and enable them to take precautions as per the advisories being issued by different Ministries.\n",
        "\n",
        "Total 50 month's data and total vaccination in each month is given.\n",
        "\n",
        "After initial data exploration you got to know that the given data don't follow linear model.\n",
        "\n",
        "Now You have to define function \"model_error\" which will fit the given data on linear regression model with appropriate degree and return RMSE error."
      ],
      "metadata": {
        "id": "9RJARlH9LYTf"
      }
    },
    {
      "cell_type": "code",
      "source": [
        "import numpy as np\n",
        "import random\n",
        "import itertools\n",
        "import functools\n",
        "\n",
        "def polynomial_transformation(X,degree):\n",
        "  if X.ndim==1:\n",
        "    X=X[:,None]\n",
        "  X_t = X.transpose()\n",
        "  feature = np.c_[np.ones(len(X))]\n",
        "  for degrees in range(1,degree+1):\n",
        "    for items in itertools.combination_with_replacement(X_t,degree):\n",
        "      feature.append(functools.reduce(lambda x,y: x*y, items))\n",
        "  return np.asarray(feature).transpose()\n",
        "  \n",
        "def model_error(X, y,degree):\n",
        "    X = polynomial_transform(X, degree)\n",
        "    w = np.linalg.pinv(X) @ y\n",
        "    y_pred = X @ w\n",
        "    e = y - y_pred\n",
        "    return np.sqrt(2/X.shape[0] * 0.5 *(e.T @ e))"
      ],
      "metadata": {
        "id": "989wO2KdKd4U"
      },
      "execution_count": null,
      "outputs": []
    },
    {
      "cell_type": "markdown",
      "source": [
        "#OR"
      ],
      "metadata": {
        "id": "HbMZHBeFOlp6"
      }
    },
    {
      "cell_type": "code",
      "source": [
        "import numpy as np\n",
        "import random\n",
        "def model_error(X, y,degree):\n",
        " \n",
        "  from sklearn.linear_model import LinearRegression\n",
        "  transformed_features = polynomial_transform(X, degree)\n",
        "  polyreg = LinearRegression()\n",
        "  w_nonlin = polyreg.fit(transformed_features, y)\n",
        "  y_pred=w_nonlin.predict(polynomial_transform(X,degree))\n",
        "  training_error=y_pred-y\n",
        "  train_loss = (1/2) * (np.transpose(training_error) @ training_error) \n",
        "  rmse = np.sqrt((2/X.shape[0])*train_loss)\n",
        "  return rmse"
      ],
      "metadata": {
        "id": "iafEpDH_Ok9E"
      },
      "execution_count": null,
      "outputs": []
    },
    {
      "cell_type": "markdown",
      "source": [
        "##GrPA 2\n",
        "Consider input feature matrix X having size of (20 x 3).\n",
        "\n",
        "You do not have to generate these values.\n",
        "\n",
        "Write a function named additional_vector which will creates a list of size 20 having 1 at even place and zero at odd place.(e.g-[0,1,0,1]) Then later it returns new updated matrix by stacking X and new vector columnwise."
      ],
      "metadata": {
        "id": "v85rBOSZOs6c"
      }
    },
    {
      "cell_type": "code",
      "source": [
        "import numpy as np\n",
        "import random\n",
        "def additional_vector(X):\n",
        "  a = [0,1]*10\n",
        "  return np.c_[X,a]"
      ],
      "metadata": {
        "id": "wKdswi-nO0Du"
      },
      "execution_count": null,
      "outputs": []
    },
    {
      "cell_type": "code",
      "source": [
        "X = np.random.randn(60).reshape(20,3)"
      ],
      "metadata": {
        "id": "90Z2Umm8PPSh"
      },
      "execution_count": null,
      "outputs": []
    },
    {
      "cell_type": "code",
      "source": [
        "X\n",
        "additional_vector(X)"
      ],
      "metadata": {
        "colab": {
          "base_uri": "https://localhost:8080/"
        },
        "id": "x_E9UfixQh4N",
        "outputId": "500eb21f-5818-4b51-8c80-30ff6b9efc5d"
      },
      "execution_count": null,
      "outputs": [
        {
          "output_type": "execute_result",
          "data": {
            "text/plain": [
              "array([[ 0.85526914,  0.79001823,  0.42458493,  0.        ],\n",
              "       [ 0.23576942,  1.30157352,  0.57932086,  1.        ],\n",
              "       [ 0.07969082,  0.09328467,  0.64027615,  0.        ],\n",
              "       [ 0.88533312, -0.74128539, -2.07150742,  1.        ],\n",
              "       [-0.02532683, -0.21787832, -0.1528021 ,  0.        ],\n",
              "       [-0.46816304,  0.7242731 , -0.65808879,  1.        ],\n",
              "       [-0.0323559 , -0.15812082,  0.9908026 ,  0.        ],\n",
              "       [ 0.20320915, -0.28450078,  1.56346822,  1.        ],\n",
              "       [-0.69235324, -0.9461751 ,  2.08100271,  0.        ],\n",
              "       [-0.67839151,  0.12134176, -0.14565432,  1.        ],\n",
              "       [-0.37344173, -0.13600785,  0.89879905,  0.        ],\n",
              "       [ 1.03274839,  1.47951702, -1.97264618,  1.        ],\n",
              "       [-0.76826694, -1.59199163, -0.24853319,  0.        ],\n",
              "       [ 1.27708674,  0.24818597, -0.13695513,  1.        ],\n",
              "       [-0.89459275,  1.69366994, -0.04433117,  0.        ],\n",
              "       [ 1.61651299,  0.18027494, -0.64087679,  1.        ],\n",
              "       [ 0.34122252,  0.19969054,  0.94629684,  0.        ],\n",
              "       [-0.38184942, -1.14088364, -0.35081127,  1.        ],\n",
              "       [-0.5964914 , -0.10251765, -1.16753088,  0.        ],\n",
              "       [-1.20969439,  0.67715462,  0.86758156,  1.        ]])"
            ]
          },
          "metadata": {},
          "execution_count": 42
        }
      ]
    },
    {
      "cell_type": "markdown",
      "source": [
        "##GrPA 3\n",
        "Consider input feature matrix X, label y and weight w. The size of X, y and w are fixed to (20 x 3), (20 x 1) and (3 x 1) respectively and these will have random values.\n",
        "\n",
        "You do not have to generate these values.\n",
        "\n",
        "Write a function named mean_abs to compute mean absolute error. This function should take the feature matrix, label vector, weight vector as inputs and return the mean absolute value as output."
      ],
      "metadata": {
        "id": "u6IwELHzSLbG"
      }
    },
    {
      "cell_type": "code",
      "source": [
        "import numpy as np\n",
        "import random\n",
        "def mean_abs(X,y,w):\n",
        "  y_pred = X @ w\n",
        "  return 0.5*np.sum(np.abs(y - y_pred))"
      ],
      "metadata": {
        "id": "ZxpOgznkheXV"
      },
      "execution_count": null,
      "outputs": []
    },
    {
      "cell_type": "markdown",
      "source": [
        "##OR"
      ],
      "metadata": {
        "id": "aZ7NoXxOTzw6"
      }
    },
    {
      "cell_type": "code",
      "source": [
        "import numpy as np\n",
        "import random\n",
        "def mean_abs(X,y,w):\n",
        "  predicted_y= X@w\n",
        "  error= y-predicted_y\n",
        "  abs_error=abs(error)\n",
        "  mean_matrix=(1/len(X))* (abs_error)\n",
        "  mean_sum=np.sum(np.sum(mean_matrix, axis=1))\n",
        "  return mean_sum"
      ],
      "metadata": {
        "id": "0zC3nK7DTygQ"
      },
      "execution_count": null,
      "outputs": []
    },
    {
      "cell_type": "markdown",
      "source": [
        "#WEEK_4\n",
        "##PPA 1\n",
        "Define a function `ConfusionMatrix(y,y_hat)` for binary classification and return a matrix in the following format: `[[TN,FP],[FN,TP]]`\n",
        " \n",
        "  1. Inputs:  y: 1 x n, y_hat: 1 x n \n",
        "  2. Output: 2D numpy array. <br>"
      ],
      "metadata": {
        "id": "q5ucmcETVRr9"
      }
    },
    {
      "cell_type": "code",
      "source": [
        "import numpy as np\n",
        "def ConfusionMatrix(y,y_hat):\n",
        "  TN = np.where((y==0) & (y_hat==0),1,0).sum()\n",
        "  FP = np.where((y==0) & (y_hat==1),1,0).sum()\n",
        "  FN = np.where((y==1) & (y_hat==0),1,0).sum()\n",
        "  TP = np.where((y==1) & (y_hat==1),1,0).sum()\n",
        "  return np.array([[TN,FP],[FN,TP]])"
      ],
      "metadata": {
        "id": "KGk1Q85jT2R7"
      },
      "execution_count": null,
      "outputs": []
    },
    {
      "cell_type": "markdown",
      "source": [
        "##PPA 2\n",
        "Define a function `is_binary(y)` to check whether the label vector y belongs to binary classification or not. If the labels are binary then return True (i.e., state=True (Boolean))  else return False (i.e., state = False).\n",
        "\n",
        "All elements in y are integer numbers (not the datatype). "
      ],
      "metadata": {
        "id": "Hj8MyD_aZRHJ"
      }
    },
    {
      "cell_type": "code",
      "source": [
        "import numpy as np\n",
        "def is_binary(y):\n",
        "    if len(np.unique(y)) == 2:\n",
        "        return True\n",
        "    return False"
      ],
      "metadata": {
        "id": "TN2rr0O1XOMH"
      },
      "execution_count": null,
      "outputs": []
    },
    {
      "cell_type": "markdown",
      "source": [
        "##PPA 3\n",
        "Write a function `percep_loss(X,w,y,i)` to compute the perceptron loss for all \n",
        "the sample in $X$ and return the loss for individual samples in a vector."
      ],
      "metadata": {
        "id": "713tOyAuZpEY"
      }
    },
    {
      "cell_type": "code",
      "source": [
        "import numpy as np\n",
        "def percep_loss(x,w,y):\n",
        "  samplewise_loss = None\n",
        "  z = x @ w\n",
        "  y_predict = np.where (z >= 0, 1, -1)\n",
        "  samplewise_loss = np.maximum(-1 * y_predict * y, np.zeros(y.shape[0]))\n",
        "  return samplewise_loss"
      ],
      "metadata": {
        "id": "y2GaA44uZs4c"
      },
      "execution_count": null,
      "outputs": []
    },
    {
      "cell_type": "markdown",
      "source": [
        "##GrPA 1\n",
        "Write a function OneHotEncode(y) to convert integer labels to one hot-encoded labels."
      ],
      "metadata": {
        "id": "VdjsNyNXbQZN"
      }
    },
    {
      "cell_type": "code",
      "source": [
        "b = np.array([1,2,-3])\n",
        "b"
      ],
      "metadata": {
        "colab": {
          "base_uri": "https://localhost:8080/"
        },
        "id": "VpUsSBIpbTjl",
        "outputId": "d4f2b8f3-00a7-4c1a-d520-4a7d2c952a6b"
      },
      "execution_count": null,
      "outputs": [
        {
          "output_type": "execute_result",
          "data": {
            "text/plain": [
              "array([ 1,  2, -3])"
            ]
          },
          "metadata": {},
          "execution_count": 42
        }
      ]
    },
    {
      "cell_type": "code",
      "source": [
        "np.sum(np.abs(b))"
      ],
      "metadata": {
        "colab": {
          "base_uri": "https://localhost:8080/"
        },
        "id": "spN1FM3RhOhW",
        "outputId": "3d068638-a1b7-4e4e-bc97-22fec95bd75a"
      },
      "execution_count": null,
      "outputs": [
        {
          "output_type": "execute_result",
          "data": {
            "text/plain": [
              "6"
            ]
          },
          "metadata": {},
          "execution_count": 45
        }
      ]
    },
    {
      "cell_type": "code",
      "source": [
        "import numpy as np\n",
        "def OneHotEncode(y):\n",
        "  n = np.max(y) + 1\n",
        "  return np.eye(n)[y]"
      ],
      "metadata": {
        "id": "kvaGodQ-hXmg"
      },
      "execution_count": null,
      "outputs": []
    },
    {
      "cell_type": "markdown",
      "source": [
        "Implement the perceptron weight update rule. Name the function as `update(x,w,y,epoch)` to update the weight vector over n epochs and returns the history of the weight updates as a matrix (or a vector if there is only one feature). \n",
        "* The row represents the weight values at ith epoch. The zeroth row represents the weight value at epoch zero (that is the one directly passed an argument to the function).\n",
        "\n",
        "[Note: Keep learning rate alpha as 1.0]"
      ],
      "metadata": {
        "id": "WNO-Ow2pYTeG"
      }
    },
    {
      "cell_type": "code",
      "source": [
        "import numpy as np\n",
        "def update(x,w,y,epochs):\n",
        "    history = []\n",
        "    wi = np.zeros(x.shape[1])\n",
        "    history.append(wi)\n",
        "    wi = w\n",
        "    for i in range(epochs):\n",
        "        for xi, target in zip(x,y):\n",
        "            y_pred = np.where((xi@wi)>= 0, 1, -1)\n",
        "            wi = wi + (target - y_pred)*xi\n",
        "        history.append(wi)\n",
        "    return history"
      ],
      "metadata": {
        "id": "ew0WDl7WYG0d"
      },
      "execution_count": null,
      "outputs": []
    },
    {
      "cell_type": "markdown",
      "source": [
        "Implement a function with a name `is_linearly_separable()` that takes in data matrix with a dummy feature (X) and label vector (y). The function returns True if the datapoints are linearly separable, False otherwise.\n",
        "\n",
        "Note: The maximum number of epochs should not exceed 10.\n"
      ],
      "metadata": {
        "id": "FnHy176_YQly"
      }
    },
    {
      "cell_type": "code",
      "source": [
        "import numpy as np\n",
        "def is_linearly_separable(X,y):\n",
        "  error = []\n",
        "  w = np.zeros(X.shape[1])\n",
        "  for i in range(10):\n",
        "      err = 0\n",
        "      for xi, target in zip(X, y):\n",
        "          y_pred = np.where((xi@w)>=0,1,-1)\n",
        "          w += (target - y_pred)*xi\n",
        "          err +=max((-1*(xi@w)*target), 0)\n",
        "      error.append(err)\n",
        "      if error[-1] == 0:\n",
        "          state = True\n",
        "      else:\n",
        "          state = False\n",
        "  return state"
      ],
      "metadata": {
        "id": "NI3FmkXoYLxU"
      },
      "execution_count": null,
      "outputs": []
    },
    {
      "cell_type": "markdown",
      "source": [
        "You are provided with an input feature matrix X, label y and weight w. \n",
        "The size of X, y and w are fixed to (100 x 5), (100 x 1) and (6 x 1). \n",
        "You have to add a dummy feature to X. \n",
        "\n",
        "Write a loss function named 'loss' to compute ridge and lasso regression losses for the given data. \n",
        "This function should take the feature matrix, label vector, weight vector and regularization rate as inputs and \n",
        "return the minimum of two loss values as output."
      ],
      "metadata": {
        "id": "56dCnby0YuGg"
      }
    },
    {
      "cell_type": "code",
      "source": [
        "import numpy as np\n",
        "import random\n",
        "def loss(X, y, w, lr):\n",
        "  ones_vector = np.ones(X.shape[0])\n",
        "  X = np.column_stack((ones_vector, X))\n",
        "  ridgeloss = (1/2) * (np.transpose(X@w-y))@(X@w-y) + (lr/2)* (np.transpose(w) @ w)\n",
        "  lassoloss = (1/2) * (np.transpose(X@w-y))@(X@w-y) + (lr/2)* np.sum(abs(w))\n",
        "  if ridgeloss < lassoloss:\n",
        "    out = ridgeloss\n",
        "  else:\n",
        "    out = lassoloss\n",
        "  return out"
      ],
      "metadata": {
        "id": "3YNfqz0XYvHM"
      },
      "execution_count": null,
      "outputs": []
    },
    {
      "cell_type": "markdown",
      "source": [
        "Researchers Cook and Weisberg (1999) measured and recorded the age (in years) and length (in mm)  of some \n",
        "randomly sampled 'Bluegills' fishes from Lake Mary in Minnesota. \n",
        "They were primarily interested in learning how the length of a bluegill fish is related to its age. \n",
        "Their observation by plotting the length vs age suggests that there is positive trend in the data, \n",
        "however, it doesn't appear to be quite linear. It appears as if there is some kind of nonlinear relationship. \n",
        "\n",
        "- You are provided with x (age of the fish), y (length of the fish) and test (age for which length is unknown). \n",
        "x and y are numpy arrays of shape 78 x 1 and test is a numpy array of size 1 X 1. \n",
        "- You have to apply second degree polynomial transformation on x.\n",
        "- Using only numpy, implement a linear regression model by stochastic gradient descent procedure on the transformed data with \n",
        "300 iterations, initial weights as zero and learning rate as 0.001.\n",
        "\n",
        "What is the length of a test bluegill fish that is randomly selected based on its age? \n",
        "- Define a function named 'output' which accepts x, y, test as inputs and returns new predicted length (float) as output. "
      ],
      "metadata": {
        "id": "c9YUte3eY5id"
      }
    },
    {
      "cell_type": "code",
      "source": [
        "import numpy as np\n",
        "import itertools\n",
        "import functools\n",
        "def polynomial_transform(x, degree):\n",
        "  if x.ndim == 1:\n",
        "    x = x[:, None]\n",
        "  x_t = x.transpose()\n",
        "  features = [np.ones(len(x))]\n",
        "  for degree in range(1, degree + 1):\n",
        "    for items in itertools.combinations_with_replacement(x_t, degree):\n",
        "      features.append(functools.reduce(lambda x, y: x * y, items))\n",
        "  return np.asarray(features).transpose()"
      ],
      "metadata": {
        "id": "4M8cDXc3Y6TF"
      },
      "execution_count": null,
      "outputs": []
    },
    {
      "cell_type": "code",
      "source": [
        ""
      ],
      "metadata": {
        "id": "LwvTht7NZG5u"
      },
      "execution_count": null,
      "outputs": []
    }
  ]
}